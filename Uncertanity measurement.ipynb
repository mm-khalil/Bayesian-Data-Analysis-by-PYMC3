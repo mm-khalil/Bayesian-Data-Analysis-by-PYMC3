{
 "cells": [
  {
   "cell_type": "markdown",
   "id": "0e3eb4e4",
   "metadata": {},
   "source": [
    "7E1\n",
    "Three motivating criteria that define information entropy are:\n",
    "(1) Uncertainity should be measured on a continuous scale.\n",
    "(2) Capture the size of the possibility space such that its value scales, with the number of possible outcomes. \n",
    "(3) Be Additive for independent events."
   ]
  },
  {
   "cell_type": "markdown",
   "id": "bfbabb49",
   "metadata": {},
   "source": [
    "7E2"
   ]
  },
  {
   "cell_type": "code",
   "execution_count": 1,
   "id": "da13500e",
   "metadata": {},
   "outputs": [
    {
     "data": {
      "text/plain": [
       "0.8812908992306927"
      ]
     },
     "execution_count": 1,
     "metadata": {},
     "output_type": "execute_result"
    }
   ],
   "source": [
    "import numpy as np\n",
    "from scipy.stats import entropy\n",
    "base = 2  \n",
    "p = np.array([0.7, 1-0.7]) \n",
    "H = entropy(p, base=base)\n",
    "H"
   ]
  },
  {
   "cell_type": "markdown",
   "id": "2f766ddc",
   "metadata": {},
   "source": [
    "7E3"
   ]
  },
  {
   "cell_type": "code",
   "execution_count": 2,
   "id": "d1aeebce",
   "metadata": {},
   "outputs": [
    {
     "data": {
      "text/plain": [
       "1.9854752972273344"
      ]
     },
     "execution_count": 2,
     "metadata": {},
     "output_type": "execute_result"
    }
   ],
   "source": [
    "import numpy as np\n",
    "from scipy.stats import entropy\n",
    "base = 2  \n",
    "p = np.array([0.20, 0.25, 0.25, 0.30]) \n",
    "H = entropy(p, base=base)\n",
    "H"
   ]
  },
  {
   "cell_type": "markdown",
   "id": "2d92d6b1",
   "metadata": {},
   "source": [
    "7E4"
   ]
  },
  {
   "cell_type": "code",
   "execution_count": 3,
   "id": "3139c056",
   "metadata": {},
   "outputs": [
    {
     "data": {
      "text/plain": [
       "1.584962500721156"
      ]
     },
     "execution_count": 3,
     "metadata": {},
     "output_type": "execute_result"
    }
   ],
   "source": [
    "import numpy as np\n",
    "from scipy.stats import entropy\n",
    "base = 2  \n",
    "p = np.array([0.33, 0.33, 0.33]) \n",
    "H = entropy(p, base=base)\n",
    "H"
   ]
  },
  {
   "cell_type": "code",
   "execution_count": null,
   "id": "299906c6",
   "metadata": {},
   "outputs": [],
   "source": []
  }
 ],
 "metadata": {
  "kernelspec": {
   "display_name": "Python 3 (ipykernel)",
   "language": "python",
   "name": "python3"
  },
  "language_info": {
   "codemirror_mode": {
    "name": "ipython",
    "version": 3
   },
   "file_extension": ".py",
   "mimetype": "text/x-python",
   "name": "python",
   "nbconvert_exporter": "python",
   "pygments_lexer": "ipython3",
   "version": "3.9.7"
  }
 },
 "nbformat": 4,
 "nbformat_minor": 5
}
