{
 "cells": [
  {
   "cell_type": "markdown",
   "id": "a8fbb639",
   "metadata": {},
   "source": [
    "# 7H3"
   ]
  },
  {
   "cell_type": "code",
   "execution_count": 60,
   "id": "c6efe743",
   "metadata": {},
   "outputs": [],
   "source": [
    "import numpy as np\n",
    "from scipy.stats import entropy\n",
    "from scipy.special import rel_entr"
   ]
  },
  {
   "cell_type": "code",
   "execution_count": 44,
   "id": "1bbe65bf",
   "metadata": {},
   "outputs": [
    {
     "name": "stdout",
     "output_type": "stream",
     "text": [
      "Entropy for Island 1:\n"
     ]
    },
    {
     "data": {
      "text/plain": [
       "1.584962500721156"
      ]
     },
     "execution_count": 44,
     "metadata": {},
     "output_type": "execute_result"
    }
   ],
   "source": [
    "base = 2  \n",
    "p = np.array([0.2, 0.2, 0.2, 0.2, 0.2]) \n",
    "H = entropy(p, base=base)\n",
    "print(\"Entropy for Island 1:\")\n",
    "H"
   ]
  },
  {
   "cell_type": "code",
   "execution_count": 46,
   "id": "f63e3855",
   "metadata": {},
   "outputs": [
    {
     "name": "stdout",
     "output_type": "stream",
     "text": [
      "Entropy for Island 2:\n"
     ]
    },
    {
     "data": {
      "text/plain": [
       "0.7742433029172697"
      ]
     },
     "execution_count": 46,
     "metadata": {},
     "output_type": "execute_result"
    }
   ],
   "source": [
    "p = np.array([0.8, 0.1, 0.05, 0.025, 0.025]) \n",
    "H = entropy(p, base=base)\n",
    "print(\"Entropy for Island 2:\")\n",
    "H"
   ]
  },
  {
   "cell_type": "code",
   "execution_count": 47,
   "id": "d3bcc686",
   "metadata": {},
   "outputs": [
    {
     "name": "stdout",
     "output_type": "stream",
     "text": [
      "Entropy for Island 3:\n"
     ]
    },
    {
     "data": {
      "text/plain": [
       "0.9444885341662055"
      ]
     },
     "execution_count": 47,
     "metadata": {},
     "output_type": "execute_result"
    }
   ],
   "source": [
    "p = np.array([0.05, 0.15, 0.7, 0.05, 0.05]) \n",
    "H = entropy(p, base=base)\n",
    "print(\"Entropy for Island 3:\")\n",
    "H"
   ]
  },
  {
   "cell_type": "code",
   "execution_count": 61,
   "id": "779c18bb",
   "metadata": {},
   "outputs": [
    {
     "name": "stdout",
     "output_type": "stream",
     "text": [
      "K-L divergence between 1 and 2:\n"
     ]
    },
    {
     "data": {
      "text/plain": [
       "0.9704060527839233"
      ]
     },
     "execution_count": 61,
     "metadata": {},
     "output_type": "execute_result"
    }
   ],
   "source": [
    "p1 = [0.2, 0.2, 0.2 , 0.2  , 0.2  ] \n",
    "q2 = [0.8, 0.1, 0.05, 0.025, 0.025] \n",
    "kldivergence = sum(rel_entr(p1, q2))\n",
    "print(\"K-L divergence between 1 and 2:\")\n",
    "kldivergence"
   ]
  },
  {
   "cell_type": "code",
   "execution_count": 62,
   "id": "d5cea30e",
   "metadata": {},
   "outputs": [
    {
     "name": "stdout",
     "output_type": "stream",
     "text": [
      "K-L divergence between 2 and 1:\n"
     ]
    },
    {
     "data": {
      "text/plain": [
       "0.8664339756999315"
      ]
     },
     "execution_count": 62,
     "metadata": {},
     "output_type": "execute_result"
    }
   ],
   "source": [
    "p2 = [0.8, 0.1, 0.05, 0.025, 0.025]\n",
    "q1 = [0.2, 0.2, 0.2 , 0.2  , 0.2  ] \n",
    "kldivergence = sum(rel_entr(p2, q1))\n",
    "print(\"K-L divergence between 2 and 1:\")\n",
    "kldivergence"
   ]
  },
  {
   "cell_type": "code",
   "execution_count": 63,
   "id": "ea0863d5",
   "metadata": {},
   "outputs": [
    {
     "name": "stdout",
     "output_type": "stream",
     "text": [
      "K-L divergence between 2 and 3:\n"
     ]
    },
    {
     "data": {
      "text/plain": [
       "2.010914241472249"
      ]
     },
     "execution_count": 63,
     "metadata": {},
     "output_type": "execute_result"
    }
   ],
   "source": [
    "p2 = [0.8, 0.1, 0.05, 0.025, 0.025]\n",
    "q3 = [0.05, 0.15, 0.7, 0.05, 0.05]\n",
    "kldivergence = sum(rel_entr(p2, q3))\n",
    "print(\"K-L divergence between 2 and 3:\")\n",
    "kldivergence"
   ]
  },
  {
   "cell_type": "code",
   "execution_count": 64,
   "id": "38c163fa",
   "metadata": {},
   "outputs": [
    {
     "name": "stdout",
     "output_type": "stream",
     "text": [
      "K-L divergence between 3 and 2:\n"
     ]
    },
    {
     "data": {
      "text/plain": [
       "1.8388451788909108"
      ]
     },
     "execution_count": 64,
     "metadata": {},
     "output_type": "execute_result"
    }
   ],
   "source": [
    "p3 = [0.05, 0.15, 0.7, 0.05, 0.05]\n",
    "q2 = [0.8, 0.1, 0.05, 0.025, 0.025]\n",
    "kldivergence = sum(rel_entr(p3, q2))\n",
    "print(\"K-L divergence between 3 and 2:\")\n",
    "kldivergence"
   ]
  },
  {
   "cell_type": "code",
   "execution_count": 65,
   "id": "04f16153",
   "metadata": {},
   "outputs": [
    {
     "name": "stdout",
     "output_type": "stream",
     "text": [
      "K-L divergence between 1 and 3:\n"
     ]
    },
    {
     "data": {
      "text/plain": [
       "0.638760437463217"
      ]
     },
     "execution_count": 65,
     "metadata": {},
     "output_type": "execute_result"
    }
   ],
   "source": [
    "p1 = [0.2, 0.2, 0.2 , 0.2  , 0.2  ] \n",
    "q3 = [0.05, 0.15, 0.7, 0.05, 0.05] \n",
    "kldivergence = sum(rel_entr(p1, q3))\n",
    "print(\"K-L divergence between 1 and 3:\")\n",
    "kldivergence"
   ]
  },
  {
   "cell_type": "code",
   "execution_count": 66,
   "id": "e0741197",
   "metadata": {},
   "outputs": [
    {
     "name": "stdout",
     "output_type": "stream",
     "text": [
      "K-L divergence between 3 and 1:\n"
     ]
    },
    {
     "data": {
      "text/plain": [
       "0.6258376129110066"
      ]
     },
     "execution_count": 66,
     "metadata": {},
     "output_type": "execute_result"
    }
   ],
   "source": [
    "p3 =  [0.05, 0.15, 0.7, 0.05, 0.05]\n",
    "q1 =  [0.2, 0.2, 0.2 , 0.2  , 0.2  ]\n",
    "kldivergence = sum(rel_entr(p3, q1))\n",
    "print(\"K-L divergence between 3 and 1:\")\n",
    "kldivergence"
   ]
  },
  {
   "cell_type": "markdown",
   "id": "552fd54d",
   "metadata": {},
   "source": [
    "From the K-L Divergence values it shows that Island 3 predicts others well because its (Island 3 and 1) value is 0.62583 which is less than all other Islands, so Less Divergence value means Less Uncertanity and also Less Entropy."
   ]
  }
 ],
 "metadata": {
  "kernelspec": {
   "display_name": "Python 3 (ipykernel)",
   "language": "python",
   "name": "python3"
  },
  "language_info": {
   "codemirror_mode": {
    "name": "ipython",
    "version": 3
   },
   "file_extension": ".py",
   "mimetype": "text/x-python",
   "name": "python",
   "nbconvert_exporter": "python",
   "pygments_lexer": "ipython3",
   "version": "3.9.7"
  }
 },
 "nbformat": 4,
 "nbformat_minor": 5
}
