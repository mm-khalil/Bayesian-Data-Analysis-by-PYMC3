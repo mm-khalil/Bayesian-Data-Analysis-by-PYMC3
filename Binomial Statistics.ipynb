{
 "cells": [
  {
   "cell_type": "code",
   "execution_count": 39,
   "id": "d013b3b5",
   "metadata": {},
   "outputs": [],
   "source": [
    "import numpy as np\n",
    "import scipy.stats as stats\n",
    "import random\n",
    "\n",
    "n=1000\n",
    "success, tosses=6,9\n",
    "\n",
    "p_grid = np.linspace(0,1,n)\n",
    "prior = np.repeat(1, 1000)\n",
    "likelihood = stats.binom.pmf(success, tosses, p = p_grid)\n",
    "posterior = likelihood * prior\n",
    "posterior = posterior/sum(posterior)\n",
    "\n",
    "random.seed(100)\n",
    "samples = np.random.choice(p_grid, p = posterior, size = 10000, replace = True)\n"
   ]
  },
  {
   "cell_type": "markdown",
   "id": "3f8120d3",
   "metadata": {},
   "source": [
    "# 3E1"
   ]
  },
  {
   "cell_type": "code",
   "execution_count": 54,
   "id": "241f00b3",
   "metadata": {},
   "outputs": [
    {
     "data": {
      "text/plain": [
       "0.0005"
      ]
     },
     "execution_count": 54,
     "metadata": {},
     "output_type": "execute_result"
    }
   ],
   "source": [
    "sum(samples < 0.2)/1e4"
   ]
  },
  {
   "cell_type": "markdown",
   "id": "dde57d90",
   "metadata": {},
   "source": [
    "# 3E2"
   ]
  },
  {
   "cell_type": "code",
   "execution_count": 55,
   "id": "266a49cc",
   "metadata": {},
   "outputs": [
    {
     "data": {
      "text/plain": [
       "0.1209"
      ]
     },
     "execution_count": 55,
     "metadata": {},
     "output_type": "execute_result"
    }
   ],
   "source": [
    "sum(samples > 0.8)/1e4"
   ]
  },
  {
   "cell_type": "markdown",
   "id": "ded47d11",
   "metadata": {},
   "source": [
    "# 3E3"
   ]
  },
  {
   "cell_type": "code",
   "execution_count": 56,
   "id": "4c72bf7c",
   "metadata": {},
   "outputs": [
    {
     "name": "stdout",
     "output_type": "stream",
     "text": [
      "0.00018786\n"
     ]
    }
   ],
   "source": [
    "a = sum(samples > 0.2)/1e4\n",
    "b = sum(samples < 0.8)/1e4\n",
    "c = a + b\n",
    "d = c/1e4\n",
    "print(d)"
   ]
  },
  {
   "cell_type": "markdown",
   "id": "15e7984a",
   "metadata": {},
   "source": [
    "# 3E4"
   ]
  },
  {
   "cell_type": "code",
   "execution_count": 57,
   "id": "82c02f0a",
   "metadata": {},
   "outputs": [
    {
     "data": {
      "text/plain": [
       "0.5155155155155156"
      ]
     },
     "execution_count": 57,
     "metadata": {},
     "output_type": "execute_result"
    }
   ],
   "source": [
    "\n",
    "np.quantile(samples, 0.2)\n"
   ]
  },
  {
   "cell_type": "code",
   "execution_count": 62,
   "id": "42463000",
   "metadata": {},
   "outputs": [
    {
     "data": {
      "text/plain": [
       "0.1986"
      ]
     },
     "execution_count": 62,
     "metadata": {},
     "output_type": "execute_result"
    }
   ],
   "source": [
    "sum(samples < 0.515515515)/ 1e4\n"
   ]
  },
  {
   "cell_type": "markdown",
   "id": "1f11c7e2",
   "metadata": {},
   "source": [
    "# 3E5"
   ]
  },
  {
   "cell_type": "code",
   "execution_count": 59,
   "id": "89769ac4",
   "metadata": {},
   "outputs": [
    {
     "data": {
      "text/plain": [
       "0.7597597597597597"
      ]
     },
     "execution_count": 59,
     "metadata": {},
     "output_type": "execute_result"
    }
   ],
   "source": [
    "\n",
    "np.quantile(samples, 0.8)\n"
   ]
  },
  {
   "cell_type": "code",
   "execution_count": 61,
   "id": "d185d94c",
   "metadata": {},
   "outputs": [
    {
     "data": {
      "text/plain": [
       "0.202"
      ]
     },
     "execution_count": 61,
     "metadata": {},
     "output_type": "execute_result"
    }
   ],
   "source": [
    "sum(samples > 0.759759759)/1e4\n"
   ]
  }
 ],
 "metadata": {
  "kernelspec": {
   "display_name": "Python 3 (ipykernel)",
   "language": "python",
   "name": "python3"
  },
  "language_info": {
   "codemirror_mode": {
    "name": "ipython",
    "version": 3
   },
   "file_extension": ".py",
   "mimetype": "text/x-python",
   "name": "python",
   "nbconvert_exporter": "python",
   "pygments_lexer": "ipython3",
   "version": "3.9.7"
  }
 },
 "nbformat": 4,
 "nbformat_minor": 5
}
